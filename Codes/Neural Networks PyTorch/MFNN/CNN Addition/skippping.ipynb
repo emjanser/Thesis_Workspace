{
 "cells": [
  {
   "cell_type": "code",
   "execution_count": null,
   "metadata": {},
   "outputs": [],
   "source": [
    "class Block(nn.Module):\n",
    "    def __init__(self, input, output, p, kernel=3, padding=1, stride=1):\n",
    "        super(Block, self).__init__()\n",
    "        self.conv = nn.Conv2d(input, output, kernel, bias=False, padding=padding, stride=stride)\n",
    "        self.BatchNorm2d = nn.BatchNorm2d(output)\n",
    "        self.Dropout2d = nn.Dropout2d(p)\n",
    "    def forward(self, x):\n",
    "        out = self.conv(x)\n",
    "        out = self.Dropout2d(out)\n",
    "        out = self.BatchNorm2d(out)\n",
    "        return out\n",
    "\n",
    "\n",
    "class Net(nn.Module):\n",
    "    def __init__(self, ):\n",
    "        super(Net, self).__init__()  # just run the init of parent class (nn.Module)\n",
    "        self.block1 = Block(input=1, output=40, p=.5, kernel=5, padding=3)\n",
    "        self.block2 = Block(input=40, output=30, p=.5, kernel=4, padding=2)\n",
    "        self.block3 = Block(input=30, output=20, p=.5, kernel=3, padding=1)\n",
    "        self.block4 = Block(input=20, output=10, p=.5, kernel=2, padding=0)\n",
    "\n",
    "        x = torch.randn(28, 28).view(-1, 1, 28, 28)\n",
    "        self._to_linear = None\n",
    "        self.convs(x)\n",
    "\n",
    "        self.fc1 = nn.Linear(self._to_linear, 300, bias=False)  # flattening.\n",
    "        self.BatchNorm1d_1 = nn.BatchNorm1d(300)\n",
    "        self.Dropout1d = nn.Dropout(0.5)\n",
    "        self.fc2 = nn.Linear(300, 10)\n",
    "\n",
    "    def convs(self, x):\n",
    "        out = F.max_pool2d(F.leaky_relu(self.block1(x), negative_slope=0.1), 2)\n",
    "        x1 = out\n",
    "        out = F.max_pool2d(F.leaky_relu(self.block2(out + x1), negative_slope=0.1), 2)\n",
    "        x2 = out\n",
    "        out = F.max_pool2d(F.leaky_relu(self.block3(out + x2), negative_slope=0.1), 2)\n",
    "        out = F.max_pool2d(F.leaky_relu(self.block4(out), negative_slope=0.1), 2)\n",
    "        if self._to_linear is None:\n",
    "            self._to_linear = int(x[0].shape[0] * x[0].shape[1] * x[0].shape[2])\n",
    "        return x\n",
    "\n",
    "    def forward(self, x):\n",
    "        x = self.convs(x)\n",
    "        x = x.view(-1, self._to_linear)\n",
    "        x = F.relu(self.fc1(x))\n",
    "        x = self.Dropout1d(x)\n",
    "        x = self.BatchNorm1d_1(x)\n",
    "        x = self.fc2(x)\n",
    "        return x"
   ]
  }
 ],
 "metadata": {
  "kernelspec": {
   "display_name": "dis_env",
   "language": "python",
   "name": "python3"
  },
  "language_info": {
   "name": "python",
   "version": "3.9.10"
  },
  "orig_nbformat": 4,
  "vscode": {
   "interpreter": {
    "hash": "53a9d46bace0d87d5d8b47eb975286de82fb882fc38f144f4a3850996fb362a0"
   }
  }
 },
 "nbformat": 4,
 "nbformat_minor": 2
}
