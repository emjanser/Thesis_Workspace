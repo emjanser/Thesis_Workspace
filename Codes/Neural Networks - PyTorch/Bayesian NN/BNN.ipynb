{
 "cells": [
  {
   "cell_type": "code",
   "execution_count": null,
   "metadata": {},
   "outputs": [],
   "source": [
    "# Nope not yet 01/01/2023\n",
    "\n",
    "import torch\n",
    "import pytorch_lightning as pl\n",
    "import matplotlib.pyplot as plt\n",
    "\n",
    "# Define the Bayesian neural network\n",
    "class BayesianNN(torch.nn.Module):\n",
    "  def __init__(self, input_dim, output_dim, hidden_dim):\n",
    "    super().__init__()\n",
    "    self.fc1 = torch.nn.Linear(input_dim, hidden_dim)\n",
    "    self.fc2 = torch.nn.BayesianLinear(hidden_dim, output_dim)\n",
    "    \n",
    "  def forward(self, x):\n",
    "    x = torch.relu(self.fc1(x))\n",
    "    x = self.fc2(x)\n",
    "    return x\n",
    "\n",
    "# Create a Bayesian neural network with 2 input dimensions, 1 output dimension, and a hidden layer with 32 units\n",
    "model = BayesianNN(2, 1, 32)\n",
    "\n",
    "# Get the input data\n",
    "x_data = torch.linspace(-10, 10, 100)\n",
    "\n",
    "# Initialize lists to store the predictions and uncertainty estimates\n",
    "predictions = []\n",
    "uncertainties = []\n",
    "\n",
    "# Sample weights and biases from the posterior distribution of the model and make predictions\n",
    "for i in range(100):\n",
    "  sampled_model = model.sample_noise()\n",
    "  prediction, uncertainty = sampled_model(x_data)\n",
    "  predictions.append(prediction)\n",
    "  uncertainties.append(uncertainty)\n",
    "\n",
    "# Convert the predictions and uncertainties to numpy arrays for plotting\n",
    "predictions = predictions.detach().numpy()\n",
    "uncertainties = uncertainties.detach().numpy()\n",
    "\n",
    "# Plot the predictions and uncertainties\n",
    "plt.plot(x_data, predictions)\n",
    "plt.fill_between(x_data, predictions-uncertainties, predictions+uncertainties, alpha=0.5)\n",
    "plt.show()"
   ]
  }
 ],
 "metadata": {
  "kernelspec": {
   "display_name": "dis_env",
   "language": "python",
   "name": "python3"
  },
  "language_info": {
   "codemirror_mode": {
    "name": "ipython",
    "version": 3
   },
   "file_extension": ".py",
   "mimetype": "text/x-python",
   "name": "python",
   "nbconvert_exporter": "python",
   "pygments_lexer": "ipython3",
   "version": "3.9.10"
  },
  "orig_nbformat": 4,
  "vscode": {
   "interpreter": {
    "hash": "53a9d46bace0d87d5d8b47eb975286de82fb882fc38f144f4a3850996fb362a0"
   }
  }
 },
 "nbformat": 4,
 "nbformat_minor": 2
}
