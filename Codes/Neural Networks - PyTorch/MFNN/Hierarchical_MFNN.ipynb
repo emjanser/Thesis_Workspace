{
 "cells": [
  {
   "cell_type": "code",
   "execution_count": 1,
   "metadata": {},
   "outputs": [
    {
     "name": "stdout",
     "output_type": "stream",
     "text": [
      "tensor([[-0.0407]], grad_fn=<AddmmBackward0>)\n",
      "tensor([[0.0553]], grad_fn=<AddmmBackward0>)\n"
     ]
    }
   ],
   "source": [
    "import torch\n",
    "import torch.nn as nn\n",
    "\n",
    "# Define the low-fidelity sub-network\n",
    "class LowFidelityNet(nn.Module):\n",
    "  def __init__(self, input_size, hidden_size, output_size):\n",
    "    super(LowFidelityNet, self).__init__()\n",
    "    self.fc1 = nn.Linear(input_size, hidden_size)\n",
    "    self.relu = nn.ReLU()\n",
    "    self.fc2 = nn.Linear(hidden_size, output_size)\n",
    "  \n",
    "  def forward(self, x):\n",
    "    out = self.fc1(x)\n",
    "    out = self.relu(out)\n",
    "    out = self.fc2(out)\n",
    "    return out\n",
    "\n",
    "# Define the high-fidelity sub-network\n",
    "class HighFidelityNet(nn.Module):\n",
    "  def __init__(self, input_size, hidden_size, output_size):\n",
    "    super(HighFidelityNet, self).__init__()\n",
    "    self.fc1 = nn.Linear(input_size, hidden_size)\n",
    "    self.relu = nn.ReLU()\n",
    "    self.fc2 = nn.Linear(hidden_size, output_size)\n",
    "  \n",
    "  def forward(self, x):\n",
    "    out = self.fc1(x)\n",
    "    out = self.relu(out)\n",
    "    out = self.fc2(out)\n",
    "    return out\n",
    "\n",
    "# Define the multi-fidelity neural network\n",
    "class MFNN(nn.Module):\n",
    "  def __init__(self, low_fidelity_net, high_fidelity_net):\n",
    "    super(MFNN, self).__init__()\n",
    "    self.low_fidelity_net = low_fidelity_net\n",
    "    self.high_fidelity_net = high_fidelity_net\n",
    "  \n",
    "  def forward(self, x, fidelity):\n",
    "    # Use the low-fidelity sub-network if the input fidelity is low,\n",
    "    # and use the high-fidelity sub-network if the input fidelity is high\n",
    "    if fidelity == 'low':\n",
    "      out = self.low_fidelity_net(x)\n",
    "    else:\n",
    "      out = self.high_fidelity_net(x)\n",
    "    return out\n",
    "\n",
    "# Create instances of the low-fidelity and high-fidelity sub-networks\n",
    "input_size = 10\n",
    "hidden_size = 20\n",
    "output_size = 1\n",
    "low_fidelity_net = LowFidelityNet(input_size, hidden_size, output_size)\n",
    "high_fidelity_net = HighFidelityNet(input_size, hidden_size, output_size)\n",
    "\n",
    "# Create an instance of the MFNN\n",
    "mfnn = MFNN(low_fidelity_net, high_fidelity_net)\n",
    "\n",
    "# Test the MFNN with low-fidelity input\n",
    "x = torch.randn(1, input_size)\n",
    "fidelity = 'low'\n",
    "output = mfnn(x, fidelity)\n",
    "print(output)\n",
    "\n",
    "# Test the MFNN with high-fidelity input\n",
    "x = torch.randn(1, input_size)\n",
    "fidelity = 'high'\n",
    "output = mfnn(x, fidelity)\n",
    "print(output)\n"
   ]
  }
 ],
 "metadata": {
  "kernelspec": {
   "display_name": "dis_env",
   "language": "python",
   "name": "python3"
  },
  "language_info": {
   "codemirror_mode": {
    "name": "ipython",
    "version": 3
   },
   "file_extension": ".py",
   "mimetype": "text/x-python",
   "name": "python",
   "nbconvert_exporter": "python",
   "pygments_lexer": "ipython3",
   "version": "3.9.10 (tags/v3.9.10:f2f3f53, Jan 17 2022, 15:14:21) [MSC v.1929 64 bit (AMD64)]"
  },
  "orig_nbformat": 4,
  "vscode": {
   "interpreter": {
    "hash": "53a9d46bace0d87d5d8b47eb975286de82fb882fc38f144f4a3850996fb362a0"
   }
  }
 },
 "nbformat": 4,
 "nbformat_minor": 2
}
