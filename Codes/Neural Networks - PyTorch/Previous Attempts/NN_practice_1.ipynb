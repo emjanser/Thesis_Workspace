{
 "cells": [
  {
   "cell_type": "code",
   "execution_count": 1,
   "metadata": {},
   "outputs": [],
   "source": [
    "import sklearn\n",
    "import torch\n",
    "import numpy as np\n",
    "import matplotlib as plt"
   ]
  },
  {
   "cell_type": "markdown",
   "metadata": {},
   "source": [
    "Step 1: Create a dataset for classification, wherein dataset we have 4 features with 3 informative features and 3 classes.\n",
    "and Visualise the dataset."
   ]
  },
  {
   "cell_type": "code",
   "execution_count": null,
   "metadata": {},
   "outputs": [],
   "source": []
  },
  {
   "cell_type": "markdown",
   "metadata": {},
   "source": [
    "we are discussing a simple implementation of a neural network using the PyTorch, \n",
    "we will use a two-layer neural network where we can use sigmoid as our activation function.\n",
    " Data points in the above graph will be our input coordinates and classes related to the dots are the ground truth."
   ]
  },
  {
   "cell_type": "markdown",
   "metadata": {},
   "source": [
    "Step 2: Split the datasets into training and testing sets and loading the data using data loader."
   ]
  },
  {
   "cell_type": "code",
   "execution_count": 2,
   "metadata": {},
   "outputs": [
    {
     "data": {
      "text/plain": [
       "(torch.Size([6, 10]),\n",
       " torch.Size([4, 10]),\n",
       " torch.Size([6, 1]),\n",
       " torch.Size([4, 1]))"
      ]
     },
     "execution_count": 2,
     "metadata": {},
     "output_type": "execute_result"
    }
   ],
   "source": [
    "from sklearn.model_selection import train_test_split\n",
    "\n",
    "n_input, n_hidden, n_out, batch_size, learning_rate = 10, 15, 1, 10, 0.01\n",
    "data_x = torch.randn(batch_size, n_input)\n",
    "data_y = (torch.rand(size=(batch_size, 1)) < 0.5).float()\n",
    "\n",
    "\n",
    "X_train, X_test, Y_train, Y_test = train_test_split(data_x, data_y, test_size=0.33, random_state=42)\n",
    "\n",
    "X_train.shape, X_test.shape, Y_train.shape, Y_test.shape # Inputs have multiple dimensions whereas outputs have one."
   ]
  },
  {
   "cell_type": "markdown",
   "metadata": {},
   "source": [
    "Form the dataloader Pytorch module"
   ]
  },
  {
   "cell_type": "code",
   "execution_count": 3,
   "metadata": {},
   "outputs": [
    {
     "ename": "TypeError",
     "evalue": "expected np.ndarray (got Tensor)",
     "output_type": "error",
     "traceback": [
      "\u001b[1;31m---------------------------------------------------------------------------\u001b[0m",
      "\u001b[1;31mTypeError\u001b[0m                                 Traceback (most recent call last)",
      "Cell \u001b[1;32mIn [3], line 1\u001b[0m\n\u001b[1;32m----> 1\u001b[0m Y_test \u001b[39m=\u001b[39m torch\u001b[39m.\u001b[39;49mfrom_numpy(X_test)\n\u001b[0;32m      2\u001b[0m Y_test \u001b[39m=\u001b[39m torch\u001b[39m.\u001b[39mfrom_numpy(np\u001b[39m.\u001b[39masarray(Y_test))\n",
      "\u001b[1;31mTypeError\u001b[0m: expected np.ndarray (got Tensor)"
     ]
    }
   ],
   "source": [
    "Y_test = torch.from_numpy(X_test)\n",
    "Y_test = torch.from_numpy(np.asarray(Y_test))"
   ]
  },
  {
   "cell_type": "code",
   "execution_count": null,
   "metadata": {},
   "outputs": [],
   "source": [
    "from torch.utils.data import Dataset, DataLoader\n",
    "class Data(Dataset):\n",
    "    def __init__(self):\n",
    "        self.X=torch.from_numpy(X_train)\n",
    "        self.Y=torch.from_numpy(Y_train)\n",
    "        self.len=self.X.shape[0]\n",
    "    def __getitem__(self,index):      \n",
    "        return self.X[index], self.Y[index]\n",
    "    def __len__(self):\n",
    "        return self.len\n",
    "data=Data()\n",
    "loader=DataLoader(dataset=data,batch_size=64)"
   ]
  },
  {
   "cell_type": "code",
   "execution_count": null,
   "metadata": {},
   "outputs": [
    {
     "name": "stdout",
     "output_type": "stream",
     "text": [
      "tensor([[ 1.6962,  0.5419, -1.4284, -1.1737],\n",
      "        [-0.0351,  1.5594, -0.7043,  0.2260],\n",
      "        [-1.4302,  2.4101,  2.5215, -1.7066],\n",
      "        [-1.3029,  0.1884,  0.6577,  1.3131],\n",
      "        [ 0.4695,  1.2055, -0.9622, -0.3470]], dtype=torch.float64)\n",
      "torch.Size([67, 4])\n",
      "tensor([0, 0, 0, 2, 0], dtype=torch.int32)\n",
      "torch.Size([67])\n"
     ]
    }
   ],
   "source": [
    "print(data.X[0:5])\n",
    "print(data.X.shape)\n",
    "print(data.Y[0:5])\n",
    "print(data.Y.shape)"
   ]
  },
  {
   "cell_type": "code",
   "execution_count": null,
   "metadata": {},
   "outputs": [],
   "source": [
    "input_dim=4     # how many Variables are in the dataset\n",
    "hidden_dim = 25 # hidden layers\n",
    "output_dim=3    # number of classes"
   ]
  },
  {
   "cell_type": "code",
   "execution_count": null,
   "metadata": {},
   "outputs": [],
   "source": [
    "import torch.nn as nn\n",
    "class Net(nn.Module):\n",
    "    def __init__(self,input,H,output):\n",
    "        super(Net,self).__init__()\n",
    "        self.linear1=nn.Linear(input,H)\n",
    "        self.linear2=nn.Linear(H,output)\n",
    " \n",
    "        \n",
    "    def forward(self,x):\n",
    "        x=torch.sigmoid(self.linear1(x))  \n",
    "        x=self.linear2(x)\n",
    "        return x"
   ]
  },
  {
   "cell_type": "code",
   "execution_count": null,
   "metadata": {},
   "outputs": [
    {
     "name": "stdout",
     "output_type": "stream",
     "text": [
      "<bound method Module.parameters of Net(\n",
      "  (linear1): Linear(in_features=4, out_features=25, bias=True)\n",
      "  (linear2): Linear(in_features=25, out_features=3, bias=True)\n",
      ")>\n"
     ]
    }
   ],
   "source": [
    "clf=Net(input_dim,hidden_dim,output_dim)\n",
    "print(clf.parameters)"
   ]
  },
  {
   "cell_type": "markdown",
   "metadata": {},
   "source": [
    "Training networks"
   ]
  },
  {
   "cell_type": "code",
   "execution_count": null,
   "metadata": {},
   "outputs": [
    {
     "ename": "NameError",
     "evalue": "name 'x' is not defined",
     "output_type": "error",
     "traceback": [
      "\u001b[1;31m---------------------------------------------------------------------------\u001b[0m",
      "\u001b[1;31mNameError\u001b[0m                                 Traceback (most recent call last)",
      "Cell \u001b[1;32mIn [172], line 8\u001b[0m\n\u001b[0;32m      5\u001b[0m loss_list \u001b[39m=\u001b[39m []\n\u001b[0;32m      7\u001b[0m \u001b[39mfor\u001b[39;00m t \u001b[39min\u001b[39;00m \u001b[39mrange\u001b[39m(\u001b[39m1000\u001b[39m):\n\u001b[1;32m----> 8\u001b[0m     y_pred \u001b[39m=\u001b[39m clf(x)\n\u001b[0;32m      9\u001b[0m     loss \u001b[39m=\u001b[39m criterion(y_pred, y)\n\u001b[0;32m     10\u001b[0m     loss_list\u001b[39m.\u001b[39mappend(loss\u001b[39m.\u001b[39mitem())\n",
      "\u001b[1;31mNameError\u001b[0m: name 'x' is not defined"
     ]
    }
   ],
   "source": [
    "criterion=nn.CrossEntropyLoss()\n",
    "optimizer=torch.optim.SGD(clf.parameters(), lr=0.1)\n",
    "\n",
    "learning_rate = 1e-1\n",
    "loss_list = []\n",
    "\n",
    "for t in range(1000):\n",
    "    y_pred = clf(x)\n",
    "    loss = criterion(y_pred, y)\n",
    "    loss_list.append(loss.item())\n",
    "    clf.zero_grad()\n",
    "    loss.backward()\n",
    "    with torch.no_grad():\n",
    "        for param in clf.parameters():\n",
    "            param -= learning_rate * param.grad"
   ]
  },
  {
   "cell_type": "code",
   "execution_count": null,
   "metadata": {},
   "outputs": [],
   "source": [
    "step = np.linspace(0,1000,1000)\n",
    "plt.plot(step,np.array(loss_list))"
   ]
  },
  {
   "cell_type": "markdown",
   "metadata": {},
   "source": [
    "Defining system boundaries"
   ]
  },
  {
   "cell_type": "code",
   "execution_count": null,
   "metadata": {},
   "outputs": [],
   "source": [
    "params = list(clf.parameters())\n",
    "w = params[0].detach().numpy()[0]\n",
    "b = params[1].detach().numpy()[0]\n",
    "t= params[3].detach().numpy()[0]\n",
    "plt.scatter(X[:, 0], X[:, 1], c=Y,cmap='jet')\n",
    "u = np.linspace(X[:, 0].min(), X[:, 0].max(), 2)\n",
    "plt.plot(u, (0.5-b-w[0]*u)/w[1])\n",
    "plt.plot(u, (0.5-t-w[0]*u)/w[1])\n",
    "plt.xlim(X[:, 0].min()-0.5, X[:, 0].max()+0.5)\n",
    "plt.ylim(X[:, 1].min()-0.5, X[:, 1].max()+0.5)"
   ]
  }
 ],
 "metadata": {
  "kernelspec": {
   "display_name": "Python 3.9.10 ('dis_env')",
   "language": "python",
   "name": "python3"
  },
  "language_info": {
   "codemirror_mode": {
    "name": "ipython",
    "version": 3
   },
   "file_extension": ".py",
   "mimetype": "text/x-python",
   "name": "python",
   "nbconvert_exporter": "python",
   "pygments_lexer": "ipython3",
   "version": "3.9.10 (tags/v3.9.10:f2f3f53, Jan 17 2022, 15:14:21) [MSC v.1929 64 bit (AMD64)]"
  },
  "orig_nbformat": 4,
  "vscode": {
   "interpreter": {
    "hash": "53a9d46bace0d87d5d8b47eb975286de82fb882fc38f144f4a3850996fb362a0"
   }
  }
 },
 "nbformat": 4,
 "nbformat_minor": 2
}
