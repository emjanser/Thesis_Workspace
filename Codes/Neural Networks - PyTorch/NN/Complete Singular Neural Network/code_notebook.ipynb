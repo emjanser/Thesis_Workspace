{
 "cells": [
  {
   "cell_type": "code",
   "execution_count": null,
   "metadata": {},
   "outputs": [],
   "source": [
    "from sklearn.model_selection import train_test_split\n",
    "import matplotlib.pyplot as plt\n",
    "import numpy as np\n",
    "import torch"
   ]
  },
  {
   "cell_type": "code",
   "execution_count": null,
   "metadata": {},
   "outputs": [],
   "source": [
    "# Synthetic Data points\n",
    "total_points_dataset = 1000\n",
    "new_data_points = 20\n",
    "\n",
    "# Model Parameters\n",
    "num_epochs = 1500\n",
    "input_dim = 1\n",
    "output_dim = 1\n",
    "hidden_dims = ([900, 900, 900, 900, 1200, 1600, 2400])\n",
    "\n",
    "\n",
    "# Device configuration\n",
    "device = torch.device('cuda' if torch.cuda.is_available() else 'cpu')\n",
    "print(f\"Model running via: {device}\")\n",
    "\n",
    "# Synthetic data function\n",
    "def F(y):\n",
    "    return 0.5 * (6 * y - 2)**2 * np.sin(12 * y - 4) + 10 * (y - 0.5) - 5\n",
    "\n",
    "\n",
    "# Model's total dataset\n",
    "X = torch.linspace(0, 2, total_points_dataset, dtype=torch.float32)[:,None]\n",
    "\n",
    "\n",
    "# Splitting dataset\n",
    "X_train, X_temp, Y_train, Y_temp = train_test_split(X, F(X), test_size=0.3, random_state=0)\n",
    "X_val, X_test, Y_val, Y_test = train_test_split(X_temp, Y_temp, test_size=0.5, random_state=0)\n",
    "\n",
    "\n",
    "# Transfering data to GPU for CUDA\n",
    "X_train = X_train.to(device); X_val = X_val.to(device); X_test = X_test.to(device)\n",
    "Y_train = Y_train.to(device); Y_val = Y_val.to(device); Y_test = Y_test.to(device)"
   ]
  },
  {
   "cell_type": "code",
   "execution_count": null,
   "metadata": {},
   "outputs": [],
   "source": [
    "# Dont forget about torch data needing requires_grad = True\n",
    "\n",
    "\n",
    "\"\"\" Verification Step - Can be commented out. \n",
    "import matplotlib.pyplot as plt\n",
    "plt.scatter(X_val, Y_val) # main result line we want to match with\n",
    "plt.show()\n",
    "print(type(X_val))\n",
    "\"\"\"\n",
    "\n",
    "\n",
    "\"\"\"\n",
    "I can use this piece of code to work on the rest of the code after taking care of training / testing \n",
    "\n",
    "data = np.linspace(0, 1, model_training_points)[:,None]\n",
    "split = int(model_training_points * 0.8) # 80% for training, 20% for testing\n",
    "\n",
    "train_data = data[:split]\n",
    "test_data = data[split:]\n",
    "\n",
    "plt.plot(test_data, F(test_data))\n",
    "plt.show()\n",
    "\"\"\""
   ]
  },
  {
   "cell_type": "code",
   "execution_count": null,
   "metadata": {},
   "outputs": [],
   "source": [
    "class Network(torch.nn.Module):\n",
    "  def __init__(self, input_dim, HF_hidden_dims, output_dim):\n",
    "    super().__init__()\n",
    "    self.fc1 = torch.nn.Linear(input_dim, HF_hidden_dims[0])\n",
    "    self.fc2 = torch.nn.Linear(HF_hidden_dims[0], HF_hidden_dims[1])\n",
    "    self.fc3 = torch.nn.Linear(HF_hidden_dims[1], HF_hidden_dims[2])\n",
    "    self.fc4 = torch.nn.Linear(HF_hidden_dims[2], HF_hidden_dims[3])\n",
    "    self.fc5 = torch.nn.Linear(HF_hidden_dims[3], output_dim)\n",
    "    # self.dropout = nn.Dropout(0.2)\n",
    "\n",
    "  def forward(self, x):\n",
    "    x = torch.relu(self.fc1(x))\n",
    "    x = torch.relu(self.fc2(x))\n",
    "    x = torch.relu(self.fc3(x))\n",
    "    x = torch.relu(self.fc4(x))\n",
    "    # x = self.dropout(x)\n",
    "    x = self.fc5(x)\n",
    "    return x\n",
    "\n",
    "model = Network(input_dim, hidden_dims, output_dim).to(device)"
   ]
  },
  {
   "cell_type": "code",
   "execution_count": null,
   "metadata": {},
   "outputs": [],
   "source": [
    "# Training\n",
    "losses = [] \n",
    "\n",
    "# Loss criterion and optimizer\n",
    "criterion = torch.nn.MSELoss().to(device)\n",
    "optimizer = torch.optim.Adam(model.parameters())\n",
    "\n",
    "\n",
    "for epoch in range(num_epochs):\n",
    "  y_pred = model(X_train.to(device))\n",
    "  loss = criterion(y_pred, Y_train.to(device))\n",
    "  losses.append(loss.item())\n",
    "  optimizer.zero_grad()\n",
    "  loss.backward()\n",
    "  optimizer.step()\n",
    "\n",
    "for param in model.parameters():\n",
    "  param.requires_grad = True"
   ]
  },
  {
   "cell_type": "code",
   "execution_count": null,
   "metadata": {},
   "outputs": [],
   "source": [
    "# Evaluating the network on the validation set \n",
    "val_outputs = model(X_val)\n",
    "val_loss = criterion(val_outputs, Y_val)\n",
    "val = print(f\" Valdation Loss of Model: {val_loss}\")\n",
    "\n",
    "\n",
    "# Valdation Loss Plot\n",
    "plt.plot(losses)\n",
    "plt.xlabel('Epoch')\n",
    "plt.ylabel('Loss')\n",
    "plt.title('Training Loss')\n",
    "plt.show()"
   ]
  },
  {
   "cell_type": "code",
   "execution_count": null,
   "metadata": {},
   "outputs": [],
   "source": [
    "# Define the NEW input data\n",
    "x_new = torch.linspace(0, 2, new_data_points)[:, None]\n",
    "\n",
    "y_pred_new = model(x_new.to(device))\n",
    "\n",
    "\n",
    "plt.plot(X, F(X)) \n",
    "plt.plot(x_new.cpu().detach().numpy(), y_pred_new.cpu().detach().numpy(),'k', lw=2, label= \"NN Prediction \")\n",
    "plt.plot(x_new, F(x_new), 'ro', markersize = 4, label = 'Data Points')\n",
    "plt.legend(bbox_to_anchor=(1, 1), loc='upper left', fontsize='x-small')\n",
    "plt.show()"
   ]
  }
 ],
 "metadata": {
  "kernelspec": {
   "display_name": "dis_env",
   "language": "python",
   "name": "python3"
  },
  "language_info": {
   "codemirror_mode": {
    "name": "ipython",
    "version": 3
   },
   "file_extension": ".py",
   "mimetype": "text/x-python",
   "name": "python",
   "nbconvert_exporter": "python",
   "pygments_lexer": "ipython3",
   "version": "3.9.10"
  },
  "orig_nbformat": 4,
  "vscode": {
   "interpreter": {
    "hash": "53a9d46bace0d87d5d8b47eb975286de82fb882fc38f144f4a3850996fb362a0"
   }
  }
 },
 "nbformat": 4,
 "nbformat_minor": 2
}
