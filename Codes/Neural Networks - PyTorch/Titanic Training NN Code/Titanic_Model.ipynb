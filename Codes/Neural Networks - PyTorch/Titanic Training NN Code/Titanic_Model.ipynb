{
 "cells": [
  {
   "attachments": {},
   "cell_type": "markdown",
   "metadata": {},
   "source": [
    "https://www.kaggle.com/code/frtgnn/introduction-to-pytorch-a-very-gentle-start/notebook\n",
    "\n",
    "# Data Handling and Processing"
   ]
  },
  {
   "cell_type": "code",
   "execution_count": 1,
   "metadata": {},
   "outputs": [],
   "source": [
    "import numpy as np\n",
    "import pandas as pd\n",
    "import seaborn as sns\n",
    "import matplotlib.pyplot as plt\n",
    "from collections import Counter\n",
    "from sklearn.preprocessing import StandardScaler"
   ]
  },
  {
   "cell_type": "code",
   "execution_count": 2,
   "metadata": {},
   "outputs": [],
   "source": [
    "# Import Data into Pandas DataFrame\n",
    "df_train = pd.read_csv('data/train.csv')\n",
    "df_test  = pd.read_csv('data/test.csv')\n",
    "df_sub   = pd.read_csv('data/gender_submission.csv')"
   ]
  },
  {
   "cell_type": "code",
   "execution_count": 3,
   "metadata": {},
   "outputs": [],
   "source": [
    "# Training Data\n",
    "# Deletes the columns ticket and cabin columns in data\n",
    "df_train.drop(['Name','Ticket','Cabin'],axis=1,inplace=True)\n",
    "\n",
    "# Turns the values in rows into binary 1 and 0 values\n",
    "sex      = pd.get_dummies(df_train['Sex'],drop_first=True)\n",
    "embark   = pd.get_dummies(df_train['Embarked'],drop_first=True)\n",
    "\n",
    "# Merges the datasets to one data frame\n",
    "df_train = pd.concat([df_train,sex,embark],axis=1)\n",
    "df_train.drop(['Sex','Embarked'],axis=1,inplace=True)\n",
    "\n",
    "# Testing Data\n",
    "df_test.drop( ['Name','Ticket','Cabin'],axis=1,inplace=True)\n",
    "\n",
    "sex     = pd.get_dummies(df_test['Sex'],drop_first=True)\n",
    "embark  = pd.get_dummies(df_test['Embarked'],drop_first=True)\n",
    "df_test = pd.concat([df_test,sex,embark],axis=1)\n",
    "\n",
    "df_test.drop(['Sex','Embarked'],axis=1,inplace=True)"
   ]
  },
  {
   "cell_type": "code",
   "execution_count": 4,
   "metadata": {},
   "outputs": [],
   "source": [
    "# Fills the NAN cells of the data with mean values of the data\n",
    "df_train.fillna(df_train.mean(),inplace=True)\n",
    "df_test.fillna(df_test.mean(),inplace=True)\n",
    "\n",
    "# Standardization of the Data\n",
    "Scaler1 = StandardScaler(); Scaler2 = StandardScaler()\n",
    "\n",
    "# Takes the top columns of the data (we save these so we can paste these back after standardization)\n",
    "train_columns = df_train.columns\n",
    "test_columns  = df_test.columns\n",
    "\n",
    "# Turns the data frames into standardized data frames \n",
    "# The fit_transform() method fits the scaler to the data and then applies the transformation to the data.\n",
    "# The resulting array is then converted to a dataframe using the pd.DataFrame() function from Pandas.\n",
    "df_train = pd.DataFrame(Scaler1.fit_transform(df_train))\n",
    "df_test  = pd.DataFrame(Scaler2.fit_transform(df_test))\n",
    "\n",
    "# Pasting the columns back\n",
    "df_train.columns = train_columns\n",
    "df_test.columns  = test_columns\n",
    "\n",
    "\n",
    "# Seperates the names of \"features and target\" and respectively X_train and y_train\n",
    "# (target = survived, features = column names)\n",
    "\n",
    "# .iloc acceses the range or group of rows and columns we want to pick, .columns, picks the columns \n",
    "# of this data frame and .tolist() converts a pandas data set to python's list of lists\n",
    "features = df_train.iloc[:,2:].columns.tolist()\n",
    "# loc works same way but simpler than .iloc, just picks data with \"survived\" from the data frame with .name\n",
    "target   = df_train.loc[:, 'Survived'].name\n",
    "\n",
    "\n",
    "X_train = df_train.iloc[:,2:].values\n",
    "y_train = df_train.loc[:, 'Survived'].values\n"
   ]
  },
  {
   "attachments": {},
   "cell_type": "markdown",
   "metadata": {},
   "source": [
    "# PyTorch"
   ]
  },
  {
   "cell_type": "code",
   "execution_count": 5,
   "metadata": {},
   "outputs": [],
   "source": [
    "import torch\n",
    "import torch.nn as nn\n",
    "from torch.nn import functional as F # idk same as torch.***\n",
    "from torch.autograd import Variable\n",
    "\n",
    "# Activate CUDA\n",
    "device = torch.device('cuda' if torch.cuda.is_available() else 'cpu')"
   ]
  },
  {
   "cell_type": "code",
   "execution_count": 6,
   "metadata": {},
   "outputs": [],
   "source": [
    "# Setting the Neural Network \n",
    "# The nn.Dropout layer is a type of regularization layer that is commonly used in deep learning to prevent overfitting.\n",
    "class Net(nn.Module):\n",
    "    def __init__(self):\n",
    "        super(Net, self).__init__()\n",
    "        self.fc1 = nn.Linear(8, 512)\n",
    "        self.fc2 = nn.Linear(512, 512)\n",
    "        self.fc3 = nn.Linear(512, 512)\n",
    "        self.fc4 = nn.Linear(512, 2)\n",
    "        self.dropout = nn.Dropout(0.2)\n",
    "        \n",
    "    def forward(self, x):\n",
    "        x = F.relu(self.fc1(x))\n",
    "        x = F.relu(self.fc2(x))\n",
    "        x = F.relu(self.fc3(x))\n",
    "        x = self.dropout(x)\n",
    "        x = self.fc4(x)\n",
    "        return x\n",
    "model = Net().to(device)"
   ]
  },
  {
   "cell_type": "code",
   "execution_count": 7,
   "metadata": {},
   "outputs": [],
   "source": [
    "criterion = nn.CrossEntropyLoss().to(device)\n",
    "optimizer = torch.optim.Adam(model.parameters())"
   ]
  },
  {
   "cell_type": "code",
   "execution_count": 8,
   "metadata": {},
   "outputs": [
    {
     "name": "stdout",
     "output_type": "stream",
     "text": [
      "Validation loss decreased (   inf ===> 0.533342). Saving the model...\n",
      "\n",
      "Epoch: 1 \tTrain Loss: 0.5333423055476456 \tTrain Accuracy: 0.0\n",
      "Validation loss decreased (0.533342 ===> 0.484693). Saving the model...\n",
      "Validation loss decreased (0.484693 ===> 0.473104). Saving the model...\n",
      "Validation loss decreased (0.473104 ===> 0.449347). Saving the model...\n",
      "Validation loss decreased (0.449347 ===> 0.446306). Saving the model...\n",
      "Validation loss decreased (0.446306 ===> 0.430330). Saving the model...\n",
      "Validation loss decreased (0.430330 ===> 0.424016). Saving the model...\n",
      "Validation loss decreased (0.424016 ===> 0.414211). Saving the model...\n",
      "Validation loss decreased (0.414211 ===> 0.405469). Saving the model...\n",
      "Validation loss decreased (0.405469 ===> 0.394652). Saving the model...\n",
      "Validation loss decreased (0.394652 ===> 0.382878). Saving the model...\n",
      "Validation loss decreased (0.382878 ===> 0.374203). Saving the model...\n",
      "Validation loss decreased (0.374203 ===> 0.369331). Saving the model...\n",
      "Validation loss decreased (0.369331 ===> 0.350455). Saving the model...\n",
      "Validation loss decreased (0.350455 ===> 0.343194). Saving the model...\n",
      "Validation loss decreased (0.343194 ===> 0.341367). Saving the model...\n",
      "Validation loss decreased (0.341367 ===> 0.339842). Saving the model...\n",
      "Validation loss decreased (0.339842 ===> 0.335909). Saving the model...\n",
      "Validation loss decreased (0.335909 ===> 0.326087). Saving the model...\n",
      "Validation loss decreased (0.326087 ===> 0.317219). Saving the model...\n",
      "Validation loss decreased (0.317219 ===> 0.309441). Saving the model...\n",
      "Validation loss decreased (0.309441 ===> 0.304501). Saving the model...\n",
      "Validation loss decreased (0.304501 ===> 0.296320). Saving the model...\n",
      "Validation loss decreased (0.296320 ===> 0.291391). Saving the model...\n",
      "Validation loss decreased (0.291391 ===> 0.286137). Saving the model...\n",
      "Validation loss decreased (0.286137 ===> 0.281735). Saving the model...\n",
      "Validation loss decreased (0.281735 ===> 0.281640). Saving the model...\n",
      "Validation loss decreased (0.281640 ===> 0.276770). Saving the model...\n",
      "Validation loss decreased (0.276770 ===> 0.274861). Saving the model...\n",
      "Validation loss decreased (0.274861 ===> 0.274366). Saving the model...\n",
      "Validation loss decreased (0.274366 ===> 0.269213). Saving the model...\n",
      "Validation loss decreased (0.269213 ===> 0.264698). Saving the model...\n",
      "Validation loss decreased (0.264698 ===> 0.264589). Saving the model...\n",
      "Validation loss decreased (0.264589 ===> 0.264033). Saving the model...\n",
      "Validation loss decreased (0.264033 ===> 0.262572). Saving the model...\n",
      "Validation loss decreased (0.262572 ===> 0.257488). Saving the model...\n",
      "Validation loss decreased (0.257488 ===> 0.254696). Saving the model...\n",
      "Validation loss decreased (0.254696 ===> 0.249932). Saving the model...\n",
      "\n",
      "Epoch: 201 \tTrain Loss: 0.2581597639781318 \tTrain Accuracy: 0.0\n",
      "Validation loss decreased (0.249932 ===> 0.242286). Saving the model...\n",
      "Validation loss decreased (0.242286 ===> 0.239352). Saving the model...\n",
      "Validation loss decreased (0.239352 ===> 0.237469). Saving the model...\n",
      "Validation loss decreased (0.237469 ===> 0.235701). Saving the model...\n",
      "Validation loss decreased (0.235701 ===> 0.233722). Saving the model...\n",
      "Validation loss decreased (0.233722 ===> 0.223095). Saving the model...\n",
      "Validation loss decreased (0.223095 ===> 0.220506). Saving the model...\n",
      "Validation loss decreased (0.220506 ===> 0.220321). Saving the model...\n",
      "Validation loss decreased (0.220321 ===> 0.211412). Saving the model...\n",
      "Training Ended! \n"
     ]
    }
   ],
   "source": [
    "# Training the Model\n",
    "\n",
    "\"\"\"\n",
    "The slice y_train[start:end] is often used to select a batch of data for\n",
    "training or evaluation in machine learning models. For example, a for loop\n",
    "that iterates over the training data in batches might look like this:\n",
    "\"\"\"\n",
    "\n",
    "batch_size = 1\n",
    "n_epochs = 400\n",
    "batch_no = len(X_train) // batch_size\n",
    "\n",
    "# To plot the change of loss\n",
    "losses = []\n",
    "\n",
    "train_loss = 0\n",
    "train_loss_min = np.Inf\n",
    "for epoch in range(n_epochs):\n",
    "    for i in range(batch_no):\n",
    "        start = i * batch_size\n",
    "        end   = start + batch_size\n",
    "        x_var = Variable(torch.FloatTensor(X_train[start:end]).to(device))\n",
    "        y_var = Variable(torch.LongTensor(y_train[start:end]).to(device)) \n",
    "        \n",
    "        optimizer.zero_grad()\n",
    "        output = model(x_var).to(device)\n",
    "        loss   = criterion(output,y_var)\n",
    "        losses.append(loss.item()) # appends the loss to the loss matrix\n",
    "        loss.backward()\n",
    "        optimizer.step()\n",
    "        \n",
    "        values, labels = torch.max(output, 1)\n",
    "        labels = labels.cpu().numpy()\n",
    "        num_right   = np.sum(labels.data == y_train[start:end])\n",
    "        train_loss += loss.item()*batch_size\n",
    "    \n",
    "    train_loss = train_loss / len(X_train)\n",
    "    if train_loss <= train_loss_min:\n",
    "        print(\"Validation loss decreased ({:6f} ===> {:6f}). Saving the model...\".format(train_loss_min,train_loss))\n",
    "        torch.save(model.state_dict(), \"model.pt\")\n",
    "        train_loss_min = train_loss\n",
    "    \n",
    "    if epoch % 200 == 0:\n",
    "        print('')\n",
    "        print(\"Epoch: {} \\tTrain Loss: {} \\tTrain Accuracy: {}\".format(epoch+1, train_loss,num_right / len(y_train[start:end]) ))\n",
    "print('Training Ended! ')"
   ]
  },
  {
   "cell_type": "code",
   "execution_count": 9,
   "metadata": {},
   "outputs": [
    {
     "data": {
      "image/png": "[encoded data removed]",
      "text/plain": [
       "<Figure size 640x480 with 1 Axes>"
      ]
     },
     "metadata": {},
     "output_type": "display_data"
    }
   ],
   "source": [
    "# Plotting the losses\n",
    "plt.plot(losses)\n",
    "plt.xlabel('Epoch')\n",
    "plt.ylabel('Loss')\n",
    "plt.title('Training Loss')\n",
    "plt.show()"
   ]
  },
  {
   "cell_type": "code",
   "execution_count": 10,
   "metadata": {},
   "outputs": [],
   "source": [
    "# Predicting using the Testing Array (X_test is turned into X_test_var as a tensor to be used in the model)\n",
    "X_test     = df_test.iloc[:,1:].values\n",
    "X_test_var = Variable(torch.FloatTensor(X_test), requires_grad=False).to(device)\n",
    "\n",
    "with torch.no_grad():\n",
    "    test_result = model(X_test_var).to(device)\n",
    "values, labels = torch.max(test_result, 1)\n",
    "labels = labels.cpu().numpy()\n",
    "\n",
    "# Converts the memoryview to numpy array and panda dataframe to print as .CSV\n",
    "submission = pd.DataFrame(np.asarray(labels.data))\n",
    "\n",
    "# Adding row and column labels respectively \n",
    "submission = pd.DataFrame({'PassengerId': df_sub['PassengerId'], 'Survived': labels})\n",
    "\n",
    "submission.to_csv(\"survived.csv\", index=False)"
   ]
  },
  {
   "attachments": {},
   "cell_type": "markdown",
   "metadata": {},
   "source": [
    "# TORCH.NO.GRAD()\n",
    "\n",
    "torch.no_grad() is a context manager in PyTorch that sets the requires_grad flag of all tensors in the context to False. This flag determines whether gradients should be calculated for a tensor during the backward pass of a machine learning model's training.\n",
    "\n",
    "When the requires_grad flag is set to True, gradients are calculated for a tensor and the tensor's gradient accumulator is set to 0. When the requires_grad flag is set to False, gradients are not calculated for the tensor and the tensor's gradient accumulator is not modified.\n",
    "\n",
    "The torch.no_grad() context manager is often used to disable gradient calculations when evaluating a model's performance on a validation or test set, or when using a model for inference. Disabling gradient calculations can improve the performance of these operations and reduce the memory usage of the model, as it does not need to store the gradients of the tensors in memory.\n",
    "\n",
    "Here is an example of how to use the torch.no_grad() context manager to evaluate a model's performance on a test set"
   ]
  }
 ],
 "metadata": {
  "kernelspec": {
   "display_name": "dis_env",
   "language": "python",
   "name": "python3"
  },
  "language_info": {
   "codemirror_mode": {
    "name": "ipython",
    "version": 3
   },
   "file_extension": ".py",
   "mimetype": "text/x-python",
   "name": "python",
   "nbconvert_exporter": "python",
   "pygments_lexer": "ipython3",
   "version": "3.9.10"
  },
  "orig_nbformat": 4,
  "vscode": {
   "interpreter": {
    "hash": "53a9d46bace0d87d5d8b47eb975286de82fb882fc38f144f4a3850996fb362a0"
   }
  }
 },
 "nbformat": 4,
 "nbformat_minor": 2
}
